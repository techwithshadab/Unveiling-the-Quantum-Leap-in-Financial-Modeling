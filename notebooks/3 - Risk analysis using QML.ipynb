{
 "cells": [
  {
   "attachments": {},
   "cell_type": "markdown",
   "metadata": {},
   "source": [
    "# Credit risk analysis\n",
    "\n",
    "Our first approach to credit risk analysis will require some data to be used. This data is related to a set of households and their finantial status based on different factors (borough, max debt acquired by the household for a period of time, etc.)"
   ]
  },
  {
   "cell_type": "code",
   "execution_count": 1,
   "metadata": {},
   "outputs": [
    {
     "data": {
      "text/html": [
       "<div>\n",
       "<style scoped>\n",
       "    .dataframe tbody tr th:only-of-type {\n",
       "        vertical-align: middle;\n",
       "    }\n",
       "\n",
       "    .dataframe tbody tr th {\n",
       "        vertical-align: top;\n",
       "    }\n",
       "\n",
       "    .dataframe thead th {\n",
       "        text-align: right;\n",
       "    }\n",
       "</style>\n",
       "<table border=\"1\" class=\"dataframe\">\n",
       "  <thead>\n",
       "    <tr style=\"text-align: right;\">\n",
       "      <th></th>\n",
       "      <th>Unnamed: 0</th>\n",
       "      <th>target</th>\n",
       "      <th>borough_county</th>\n",
       "      <th>primary_sector</th>\n",
       "      <th>company_type</th>\n",
       "      <th>annual_turnover</th>\n",
       "      <th>number_of_employees</th>\n",
       "      <th>turnover_bands</th>\n",
       "      <th>factoring_type</th>\n",
       "      <th>factoring_provider</th>\n",
       "      <th>...</th>\n",
       "      <th>turnover_wave12</th>\n",
       "      <th>turnover_wave13</th>\n",
       "      <th>turnover_wave14</th>\n",
       "      <th>turnover_vs_operating_cost_wave10</th>\n",
       "      <th>turnover_vs_operating_cost_wave11</th>\n",
       "      <th>turnover_vs_operating_cost_wave12</th>\n",
       "      <th>turnover_vs_operating_cost_wave13</th>\n",
       "      <th>turnover_vs_operating_cost_wave14</th>\n",
       "      <th>value_of_covid_based_loans_taken_out</th>\n",
       "      <th>train</th>\n",
       "    </tr>\n",
       "  </thead>\n",
       "  <tbody>\n",
       "    <tr>\n",
       "      <th>0</th>\n",
       "      <td>858.0</td>\n",
       "      <td>0.0</td>\n",
       "      <td>2.9205</td>\n",
       "      <td>0.4856</td>\n",
       "      <td>-0.0330</td>\n",
       "      <td>0.0451</td>\n",
       "      <td>0.1019</td>\n",
       "      <td>0.2453</td>\n",
       "      <td>0.0226</td>\n",
       "      <td>0.0226</td>\n",
       "      <td>...</td>\n",
       "      <td>-8.000000</td>\n",
       "      <td>0.000000</td>\n",
       "      <td>0.0</td>\n",
       "      <td>15.000000</td>\n",
       "      <td>0.000000</td>\n",
       "      <td>-12.000000</td>\n",
       "      <td>0.00000</td>\n",
       "      <td>7.000000</td>\n",
       "      <td>0.00000</td>\n",
       "      <td>1.0</td>\n",
       "    </tr>\n",
       "    <tr>\n",
       "      <th>1</th>\n",
       "      <td>537.0</td>\n",
       "      <td>0.0</td>\n",
       "      <td>2.9205</td>\n",
       "      <td>0.0106</td>\n",
       "      <td>-0.0330</td>\n",
       "      <td>0.0451</td>\n",
       "      <td>-0.2906</td>\n",
       "      <td>-0.8283</td>\n",
       "      <td>-0.3079</td>\n",
       "      <td>1.7716</td>\n",
       "      <td>...</td>\n",
       "      <td>0.000000</td>\n",
       "      <td>0.000000</td>\n",
       "      <td>-9.0</td>\n",
       "      <td>0.000000</td>\n",
       "      <td>0.000000</td>\n",
       "      <td>15.000000</td>\n",
       "      <td>0.00000</td>\n",
       "      <td>-68.000000</td>\n",
       "      <td>26945.00000</td>\n",
       "      <td>1.0</td>\n",
       "    </tr>\n",
       "    <tr>\n",
       "      <th>2</th>\n",
       "      <td>302.0</td>\n",
       "      <td>0.0</td>\n",
       "      <td>-0.0118</td>\n",
       "      <td>0.4856</td>\n",
       "      <td>-0.0202</td>\n",
       "      <td>0.0451</td>\n",
       "      <td>0.1019</td>\n",
       "      <td>0.2453</td>\n",
       "      <td>0.0226</td>\n",
       "      <td>0.0226</td>\n",
       "      <td>...</td>\n",
       "      <td>-74.000000</td>\n",
       "      <td>0.000000</td>\n",
       "      <td>0.0</td>\n",
       "      <td>5.000000</td>\n",
       "      <td>-9.000000</td>\n",
       "      <td>-9.000000</td>\n",
       "      <td>0.00000</td>\n",
       "      <td>0.000000</td>\n",
       "      <td>0.00000</td>\n",
       "      <td>1.0</td>\n",
       "    </tr>\n",
       "    <tr>\n",
       "      <th>3</th>\n",
       "      <td>447.0</td>\n",
       "      <td>0.0</td>\n",
       "      <td>-0.0118</td>\n",
       "      <td>-0.6217</td>\n",
       "      <td>-0.0330</td>\n",
       "      <td>-0.3414</td>\n",
       "      <td>0.1019</td>\n",
       "      <td>0.2453</td>\n",
       "      <td>0.0226</td>\n",
       "      <td>0.0226</td>\n",
       "      <td>...</td>\n",
       "      <td>0.000000</td>\n",
       "      <td>30.000000</td>\n",
       "      <td>0.0</td>\n",
       "      <td>34.000000</td>\n",
       "      <td>0.000000</td>\n",
       "      <td>9.000000</td>\n",
       "      <td>0.00000</td>\n",
       "      <td>0.000000</td>\n",
       "      <td>32855.00000</td>\n",
       "      <td>1.0</td>\n",
       "    </tr>\n",
       "    <tr>\n",
       "      <th>4</th>\n",
       "      <td>867.0</td>\n",
       "      <td>0.0</td>\n",
       "      <td>2.9205</td>\n",
       "      <td>-0.6217</td>\n",
       "      <td>-0.0330</td>\n",
       "      <td>-0.3414</td>\n",
       "      <td>0.1019</td>\n",
       "      <td>-0.8283</td>\n",
       "      <td>0.0226</td>\n",
       "      <td>0.0226</td>\n",
       "      <td>...</td>\n",
       "      <td>11.000000</td>\n",
       "      <td>0.000000</td>\n",
       "      <td>-9.0</td>\n",
       "      <td>0.000000</td>\n",
       "      <td>0.000000</td>\n",
       "      <td>0.000000</td>\n",
       "      <td>0.00000</td>\n",
       "      <td>-7.000000</td>\n",
       "      <td>26217.00000</td>\n",
       "      <td>1.0</td>\n",
       "    </tr>\n",
       "    <tr>\n",
       "      <th>5</th>\n",
       "      <td>305.0</td>\n",
       "      <td>0.0</td>\n",
       "      <td>2.9205</td>\n",
       "      <td>0.0106</td>\n",
       "      <td>-0.0330</td>\n",
       "      <td>0.0451</td>\n",
       "      <td>0.1019</td>\n",
       "      <td>0.2453</td>\n",
       "      <td>0.0226</td>\n",
       "      <td>0.0226</td>\n",
       "      <td>...</td>\n",
       "      <td>-66.000000</td>\n",
       "      <td>0.000000</td>\n",
       "      <td>-10.0</td>\n",
       "      <td>0.000000</td>\n",
       "      <td>-80.000000</td>\n",
       "      <td>-10.000000</td>\n",
       "      <td>0.00000</td>\n",
       "      <td>6.000000</td>\n",
       "      <td>0.00000</td>\n",
       "      <td>1.0</td>\n",
       "    </tr>\n",
       "    <tr>\n",
       "      <th>6</th>\n",
       "      <td>172.0</td>\n",
       "      <td>1.0</td>\n",
       "      <td>-0.7430</td>\n",
       "      <td>0.0913</td>\n",
       "      <td>-0.0202</td>\n",
       "      <td>0.0451</td>\n",
       "      <td>0.1019</td>\n",
       "      <td>0.2453</td>\n",
       "      <td>0.0226</td>\n",
       "      <td>0.0226</td>\n",
       "      <td>...</td>\n",
       "      <td>-10.000000</td>\n",
       "      <td>-9.000000</td>\n",
       "      <td>-9.0</td>\n",
       "      <td>0.000000</td>\n",
       "      <td>0.000000</td>\n",
       "      <td>0.000000</td>\n",
       "      <td>0.00000</td>\n",
       "      <td>0.000000</td>\n",
       "      <td>0.00000</td>\n",
       "      <td>1.0</td>\n",
       "    </tr>\n",
       "    <tr>\n",
       "      <th>7</th>\n",
       "      <td>528.0</td>\n",
       "      <td>0.0</td>\n",
       "      <td>-0.0118</td>\n",
       "      <td>0.4856</td>\n",
       "      <td>-0.0330</td>\n",
       "      <td>0.0451</td>\n",
       "      <td>0.1019</td>\n",
       "      <td>0.2453</td>\n",
       "      <td>0.0226</td>\n",
       "      <td>0.0226</td>\n",
       "      <td>...</td>\n",
       "      <td>0.000000</td>\n",
       "      <td>0.000000</td>\n",
       "      <td>13.0</td>\n",
       "      <td>41.000000</td>\n",
       "      <td>-77.000000</td>\n",
       "      <td>-44.000000</td>\n",
       "      <td>0.00000</td>\n",
       "      <td>0.000000</td>\n",
       "      <td>0.00000</td>\n",
       "      <td>1.0</td>\n",
       "    </tr>\n",
       "    <tr>\n",
       "      <th>8</th>\n",
       "      <td>326.0</td>\n",
       "      <td>1.0</td>\n",
       "      <td>-0.7430</td>\n",
       "      <td>0.4856</td>\n",
       "      <td>-0.0330</td>\n",
       "      <td>0.0451</td>\n",
       "      <td>0.1019</td>\n",
       "      <td>0.2453</td>\n",
       "      <td>0.0226</td>\n",
       "      <td>0.0226</td>\n",
       "      <td>...</td>\n",
       "      <td>0.000000</td>\n",
       "      <td>0.000000</td>\n",
       "      <td>12.0</td>\n",
       "      <td>11.000000</td>\n",
       "      <td>0.000000</td>\n",
       "      <td>0.000000</td>\n",
       "      <td>0.00000</td>\n",
       "      <td>10.000000</td>\n",
       "      <td>0.00000</td>\n",
       "      <td>1.0</td>\n",
       "    </tr>\n",
       "    <tr>\n",
       "      <th>9</th>\n",
       "      <td>344.0</td>\n",
       "      <td>0.0</td>\n",
       "      <td>2.9205</td>\n",
       "      <td>-0.1203</td>\n",
       "      <td>-0.0330</td>\n",
       "      <td>0.0451</td>\n",
       "      <td>-0.2906</td>\n",
       "      <td>-0.8283</td>\n",
       "      <td>0.0226</td>\n",
       "      <td>0.0226</td>\n",
       "      <td>...</td>\n",
       "      <td>-5.879253</td>\n",
       "      <td>-5.821141</td>\n",
       "      <td>0.0</td>\n",
       "      <td>3.011241</td>\n",
       "      <td>-4.644068</td>\n",
       "      <td>-4.528014</td>\n",
       "      <td>-2.68406</td>\n",
       "      <td>-3.590444</td>\n",
       "      <td>13669.49174</td>\n",
       "      <td>1.0</td>\n",
       "    </tr>\n",
       "  </tbody>\n",
       "</table>\n",
       "<p>10 rows × 167 columns</p>\n",
       "</div>"
      ],
      "text/plain": [
       "   Unnamed: 0  target  borough_county  primary_sector  company_type   \n",
       "0       858.0     0.0          2.9205          0.4856       -0.0330  \\\n",
       "1       537.0     0.0          2.9205          0.0106       -0.0330   \n",
       "2       302.0     0.0         -0.0118          0.4856       -0.0202   \n",
       "3       447.0     0.0         -0.0118         -0.6217       -0.0330   \n",
       "4       867.0     0.0          2.9205         -0.6217       -0.0330   \n",
       "5       305.0     0.0          2.9205          0.0106       -0.0330   \n",
       "6       172.0     1.0         -0.7430          0.0913       -0.0202   \n",
       "7       528.0     0.0         -0.0118          0.4856       -0.0330   \n",
       "8       326.0     1.0         -0.7430          0.4856       -0.0330   \n",
       "9       344.0     0.0          2.9205         -0.1203       -0.0330   \n",
       "\n",
       "   annual_turnover  number_of_employees  turnover_bands  factoring_type   \n",
       "0           0.0451               0.1019          0.2453          0.0226  \\\n",
       "1           0.0451              -0.2906         -0.8283         -0.3079   \n",
       "2           0.0451               0.1019          0.2453          0.0226   \n",
       "3          -0.3414               0.1019          0.2453          0.0226   \n",
       "4          -0.3414               0.1019         -0.8283          0.0226   \n",
       "5           0.0451               0.1019          0.2453          0.0226   \n",
       "6           0.0451               0.1019          0.2453          0.0226   \n",
       "7           0.0451               0.1019          0.2453          0.0226   \n",
       "8           0.0451               0.1019          0.2453          0.0226   \n",
       "9           0.0451              -0.2906         -0.8283          0.0226   \n",
       "\n",
       "   factoring_provider  ...  turnover_wave12  turnover_wave13  turnover_wave14   \n",
       "0              0.0226  ...        -8.000000         0.000000              0.0  \\\n",
       "1              1.7716  ...         0.000000         0.000000             -9.0   \n",
       "2              0.0226  ...       -74.000000         0.000000              0.0   \n",
       "3              0.0226  ...         0.000000        30.000000              0.0   \n",
       "4              0.0226  ...        11.000000         0.000000             -9.0   \n",
       "5              0.0226  ...       -66.000000         0.000000            -10.0   \n",
       "6              0.0226  ...       -10.000000        -9.000000             -9.0   \n",
       "7              0.0226  ...         0.000000         0.000000             13.0   \n",
       "8              0.0226  ...         0.000000         0.000000             12.0   \n",
       "9              0.0226  ...        -5.879253        -5.821141              0.0   \n",
       "\n",
       "   turnover_vs_operating_cost_wave10  turnover_vs_operating_cost_wave11   \n",
       "0                          15.000000                           0.000000  \\\n",
       "1                           0.000000                           0.000000   \n",
       "2                           5.000000                          -9.000000   \n",
       "3                          34.000000                           0.000000   \n",
       "4                           0.000000                           0.000000   \n",
       "5                           0.000000                         -80.000000   \n",
       "6                           0.000000                           0.000000   \n",
       "7                          41.000000                         -77.000000   \n",
       "8                          11.000000                           0.000000   \n",
       "9                           3.011241                          -4.644068   \n",
       "\n",
       "   turnover_vs_operating_cost_wave12  turnover_vs_operating_cost_wave13   \n",
       "0                         -12.000000                            0.00000  \\\n",
       "1                          15.000000                            0.00000   \n",
       "2                          -9.000000                            0.00000   \n",
       "3                           9.000000                            0.00000   \n",
       "4                           0.000000                            0.00000   \n",
       "5                         -10.000000                            0.00000   \n",
       "6                           0.000000                            0.00000   \n",
       "7                         -44.000000                            0.00000   \n",
       "8                           0.000000                            0.00000   \n",
       "9                          -4.528014                           -2.68406   \n",
       "\n",
       "   turnover_vs_operating_cost_wave14  value_of_covid_based_loans_taken_out   \n",
       "0                           7.000000                               0.00000  \\\n",
       "1                         -68.000000                           26945.00000   \n",
       "2                           0.000000                               0.00000   \n",
       "3                           0.000000                           32855.00000   \n",
       "4                          -7.000000                           26217.00000   \n",
       "5                           6.000000                               0.00000   \n",
       "6                           0.000000                               0.00000   \n",
       "7                           0.000000                               0.00000   \n",
       "8                          10.000000                               0.00000   \n",
       "9                          -3.590444                           13669.49174   \n",
       "\n",
       "   train  \n",
       "0    1.0  \n",
       "1    1.0  \n",
       "2    1.0  \n",
       "3    1.0  \n",
       "4    1.0  \n",
       "5    1.0  \n",
       "6    1.0  \n",
       "7    1.0  \n",
       "8    1.0  \n",
       "9    1.0  \n",
       "\n",
       "[10 rows x 167 columns]"
      ]
     },
     "execution_count": 1,
     "metadata": {},
     "output_type": "execute_result"
    }
   ],
   "source": [
    "import pandas as pd\n",
    "\n",
    "# Data loading from a CSV file\n",
    "fulldata = pd.read_csv('../data/nayaone_synthetic_data.csv')\n",
    "\n",
    "# Transforming data to float\n",
    "data = fulldata.astype(float)\n",
    "data.head(10)"
   ]
  },
  {
   "attachments": {},
   "cell_type": "markdown",
   "metadata": {},
   "source": [
    "Like in any other Supervised Machine Learning case we will need to split the data into different chunks. First, splitting the data that is considered a feature (and will be used to assess the risk analysis) and the data that is considerd Label. Also, we will split the data into 70% used for training and 30% to establish how good our algorithm works with previously not seen data."
   ]
  },
  {
   "cell_type": "code",
   "execution_count": 2,
   "metadata": {},
   "outputs": [],
   "source": [
    "# Get the data for training and testing\n",
    "data_train = data.groupby([data.index,'train']).filter(lambda x: x['train'] == 1.).reset_index()\n",
    "data_test = data.groupby([data.index,'train']).filter(lambda x: x['train'] == 0.).reset_index()\n",
    "# Separate X and y considering dropping not useful columns\n",
    "X_train = data_train.drop(['target', 'Unnamed: 0', 'train'] ,axis=\"columns\")\n",
    "y_train = data_train['target']\n",
    "X_test = data_test.drop(['target', 'Unnamed: 0', 'train'] ,axis=\"columns\")\n",
    "y_test = data_test['target']"
   ]
  },
  {
   "attachments": {},
   "cell_type": "markdown",
   "metadata": {},
   "source": [
    "We should always check that our dataset is balanced enough to avoid any bias on the data itself."
   ]
  },
  {
   "cell_type": "code",
   "execution_count": 3,
   "metadata": {},
   "outputs": [
    {
     "data": {
      "text/plain": [
       "target\n",
       "0.0    70.422535\n",
       "1.0    29.577465\n",
       "Name: proportion, dtype: float64"
      ]
     },
     "execution_count": 3,
     "metadata": {},
     "output_type": "execute_result"
    }
   ],
   "source": [
    "# Review the balance of the target variable in train\n",
    "y_train.value_counts(normalize=True)*100"
   ]
  },
  {
   "cell_type": "code",
   "execution_count": 4,
   "metadata": {},
   "outputs": [
    {
     "data": {
      "text/plain": [
       "target\n",
       "0.0    70.545455\n",
       "1.0    29.454545\n",
       "Name: proportion, dtype: float64"
      ]
     },
     "execution_count": 4,
     "metadata": {},
     "output_type": "execute_result"
    }
   ],
   "source": [
    "# Review the balance of the target variable in test\n",
    "y_test.value_counts(normalize=True)*100"
   ]
  },
  {
   "attachments": {},
   "cell_type": "markdown",
   "metadata": {},
   "source": [
    "## Preprocessing"
   ]
  },
  {
   "attachments": {},
   "cell_type": "markdown",
   "metadata": {},
   "source": [
    "It is common that due to resource limitation becomes difficult to encode all available data into a QML algorithm. But it is also true that real-case data often comes with quite some noise that could affect our model so it is a good choice to play with dimensionality reduction techniques in order to compress all the information in a minimal subset of features and thus, avoid always present noise."
   ]
  },
  {
   "cell_type": "code",
   "execution_count": 5,
   "metadata": {},
   "outputs": [],
   "source": [
    "# Hard split by half on the dataframe for the LDA dimensionality reduction\n",
    "\n",
    "# Train split\n",
    "features_a = X_train.iloc[:,:83]\n",
    "features_b = X_train.iloc[:,83:]\n",
    "\n",
    "# Test split\n",
    "features_a_test = X_test.iloc[:,:83]\n",
    "features_b_test = X_test.iloc[:,83:]"
   ]
  },
  {
   "cell_type": "code",
   "execution_count": 6,
   "metadata": {},
   "outputs": [],
   "source": [
    "from sklearn.discriminant_analysis import LinearDiscriminantAnalysis as LDA\n",
    "\n",
    "# LDA fit with the separated groups\n",
    "lda1 = LDA(n_components=1, solver='svd').fit(features_a, y_train)\n",
    "lda2 = LDA(n_components=1, solver='svd').fit(features_b, y_train)\n",
    "\n",
    "# LDA train transformation\n",
    "features_lda_1 = lda1.transform(features_a)\n",
    "features_lda_2 = lda2.transform(features_b)\n",
    "\n",
    "# LDA test transformation (using train fit)\n",
    "features_lda_1_test = lda1.transform(features_a_test)\n",
    "features_lda_2_test = lda2.transform(features_b_test)\n",
    "\n",
    "# Arrays to dataframe for join in a single dataframe\n",
    "features_lda_1 = pd.DataFrame(features_lda_1)\n",
    "features_lda_2 = pd.DataFrame(features_lda_2)\n",
    "features_lda_1_test = pd.DataFrame(features_lda_1_test)\n",
    "features_lda_2_test = pd.DataFrame(features_lda_2_test)\n",
    "\n",
    "# Join of dataframes\n",
    "x_train_lda = pd.concat([features_lda_1, features_lda_2], axis=1)\n",
    "x_test_lda = pd.concat([features_lda_1_test, features_lda_2_test], axis=1)"
   ]
  },
  {
   "attachments": {},
   "cell_type": "markdown",
   "metadata": {},
   "source": [
    "Another factor that is common is the scale disparity. It is important that we make our models agnostic to the scale and able to focus on the information encoded into our features. It is also convenient when dealing with Neural Networks, as normalization always helps convergence.\n",
    "\n",
    "In this case we will replicate the information to different dataframes, acommodated to the target techniques we would like to use."
   ]
  },
  {
   "cell_type": "code",
   "execution_count": 7,
   "metadata": {},
   "outputs": [],
   "source": [
    "from sklearn.preprocessing import StandardScaler, MinMaxScaler, normalize\n",
    "\n",
    "## QSVC\n",
    "minmax_scaler = MinMaxScaler().fit(x_train_lda)\n",
    "X_train_qsvc = minmax_scaler.transform(x_train_lda)\n",
    "X_test_qsvc = minmax_scaler.transform(x_test_lda)\n",
    "\n",
    "## SVC\n",
    "strd_scaler = StandardScaler().fit(x_train_lda)\n",
    "X_train_svc = strd_scaler.transform(x_train_lda)\n",
    "X_test_svc = strd_scaler.transform(x_test_lda)\n",
    "\n",
    "## VQC\n",
    "strd_scaler = StandardScaler().fit(x_train_lda)\n",
    "X_train_vqc = strd_scaler.transform(x_train_lda)\n",
    "X_test_vqc = strd_scaler.transform(x_test_lda)\n",
    "y_train_vqc = pd.DataFrame(y_train)\n",
    "y_test_vqc = pd.DataFrame(y_test)\n",
    "\n",
    "## Quantum Neural Network\n",
    "minmax_scaler = MinMaxScaler().fit(x_train_lda)\n",
    "X_train_nn = minmax_scaler.transform(x_train_lda)\n",
    "X_test_nn = minmax_scaler.transform(x_test_lda)\n",
    "y_train_nn = y_train.to_numpy()\n",
    "y_test_nn = y_test.to_numpy()"
   ]
  },
  {
   "attachments": {},
   "cell_type": "markdown",
   "metadata": {},
   "source": [
    "# Models\n",
    "\n",
    "Following lines will present some of the most common models used in classical ML and their quantum counterpart. We will register some common parameters so that they can be used by all following techniques."
   ]
  },
  {
   "cell_type": "code",
   "execution_count": 8,
   "metadata": {},
   "outputs": [],
   "source": [
    "from qiskit.utils import algorithm_globals\n",
    "\n",
    "# Features\n",
    "features_dim = len(x_test_lda.columns)\n",
    "\n",
    "# number of qubits is equal to the number of features \n",
    "num_qubits = features_dim\n",
    "\n",
    "# regularization parameter\n",
    "C = 1000\n",
    "\n",
    "# regularization parameter\n",
    "maxiter = 50\n",
    "\n",
    "# Random seed\n",
    "algorithm_globals.random_seed = 12345\n",
    "\n",
    "# Batch\n",
    "batch = 40\n",
    "\n",
    "# Shots\n",
    "shots = 1024\n",
    "\n",
    "# Features\n",
    "features_dim = num_qubits\n",
    "\n",
    "# Parameters for quantum implementations\n",
    "num_params = features_dim\n",
    "num_features = features_dim\n",
    "num_inputs = features_dim"
   ]
  },
  {
   "attachments": {},
   "cell_type": "markdown",
   "metadata": {},
   "source": [
    "## SVC and QSVC\n",
    "\n",
    "Support Vector Classifiers arepretty well known techniques enabling the separability of data in high dimensional spaces for classiciation tasks."
   ]
  },
  {
   "cell_type": "code",
   "execution_count": 9,
   "metadata": {},
   "outputs": [
    {
     "name": "stdout",
     "output_type": "stream",
     "text": [
      "SVC classification test score: 0.7927272727272727\n"
     ]
    }
   ],
   "source": [
    "from sklearn.svm import SVC \n",
    "\n",
    "# Instantiate the SVC\n",
    "svc = SVC()\n",
    "\n",
    "# Training\n",
    "svc.fit(X_train_svc,y_train)\n",
    "\n",
    "# Testing\n",
    "svc_score = svc.score(X_test_svc, y_test)\n",
    "print(f\"SVC classification test score: {svc_score}\")"
   ]
  },
  {
   "cell_type": "code",
   "execution_count": 10,
   "metadata": {},
   "outputs": [
    {
     "name": "stdout",
     "output_type": "stream",
     "text": [
      "Classification report: \n",
      "               precision    recall  f1-score   support\n",
      "\n",
      "         0.0       0.85      0.85      0.85       194\n",
      "         1.0       0.65      0.65      0.65        81\n",
      "\n",
      "    accuracy                           0.79       275\n",
      "   macro avg       0.75      0.75      0.75       275\n",
      "weighted avg       0.79      0.79      0.79       275\n",
      "\n"
     ]
    }
   ],
   "source": [
    "from sklearn import metrics\n",
    "\n",
    "# Classification report of SVC\n",
    "expected_y_svc  = y_test\n",
    "predicted_y_svc = svc.predict(X_test_svc) \n",
    "\n",
    "# Print classification report and confusion matrix\n",
    "print(\"Classification report: \\n\", metrics.classification_report(expected_y_svc, predicted_y_svc))"
   ]
  },
  {
   "attachments": {},
   "cell_type": "markdown",
   "metadata": {},
   "source": [
    "The classical counterpart of SVC takes advantage of the quantum embedding to improve the separability between the samples. For this a Quantum circuit known as a FeatureMap is used to map out classical observations to a quantum state that afterwards gets measures. By using this measured states instead of the original data we aim to improve the separability between our samples."
   ]
  },
  {
   "cell_type": "code",
   "execution_count": 11,
   "metadata": {},
   "outputs": [],
   "source": [
    "from qiskit.providers.aer import AerSimulator\n",
    "from qiskit.utils import QuantumInstance\n",
    "from qiskit.circuit.library import ZZFeatureMap\n",
    "\n",
    "# Defining backend and feature map to be used\n",
    "backend = QuantumInstance(\n",
    "     AerSimulator(method='statevector'),\n",
    "    seed_simulator=algorithm_globals.random_seed,\n",
    "    seed_transpiler=algorithm_globals.random_seed,\n",
    ")\n",
    "\n",
    "# ZZ feature map\n",
    "feature_map = ZZFeatureMap(feature_dimension=num_qubits, reps=3)"
   ]
  },
  {
   "attachments": {},
   "cell_type": "markdown",
   "metadata": {},
   "source": [
    "We can see how this Feature Maps is composed by parameterized actions where our data will be introduced to create data-specific quantum states."
   ]
  },
  {
   "cell_type": "code",
   "execution_count": 12,
   "metadata": {},
   "outputs": [
    {
     "data": {
      "image/png": "[encoded data removed]",
      "text/plain": [
       "<Figure size 1875.91x200.667 with 1 Axes>"
      ]
     },
     "execution_count": 12,
     "metadata": {},
     "output_type": "execute_result"
    }
   ],
   "source": [
    "# Feature map circuit print\n",
    "feature_map.decompose().draw(output = \"mpl\")"
   ]
  },
  {
   "attachments": {},
   "cell_type": "markdown",
   "metadata": {},
   "source": [
    "Quantum SVC will use this feature map to find the best way in which to split our newly encoded quantum data."
   ]
  },
  {
   "cell_type": "code",
   "execution_count": 13,
   "metadata": {},
   "outputs": [
    {
     "name": "stdout",
     "output_type": "stream",
     "text": [
      "QSVC classification test score: 0.7927272727272727\n"
     ]
    }
   ],
   "source": [
    "from qiskit_machine_learning.kernels import QuantumKernel\n",
    "from qiskit_machine_learning.algorithms import QSVC\n",
    "\n",
    "# Defining quantum kernel and qsvc\n",
    "qkernel = QuantumKernel(feature_map=feature_map, quantum_instance=backend)\n",
    "qsvc = QSVC(quantum_kernel=qkernel, C=C)\n",
    "\n",
    "# Training\n",
    "qsvc.fit(X_train_qsvc,y_train)\n",
    "\n",
    "# Testing\n",
    "qsvc_score = qsvc.score(X_test_qsvc, y_test)\n",
    "print(f\"QSVC classification test score: {qsvc_score}\")"
   ]
  },
  {
   "cell_type": "code",
   "execution_count": 14,
   "metadata": {},
   "outputs": [
    {
     "name": "stdout",
     "output_type": "stream",
     "text": [
      "Classification report: \n",
      "               precision    recall  f1-score   support\n",
      "\n",
      "         0.0       0.88      0.82      0.85       194\n",
      "         1.0       0.63      0.73      0.67        81\n",
      "\n",
      "    accuracy                           0.79       275\n",
      "   macro avg       0.75      0.77      0.76       275\n",
      "weighted avg       0.80      0.79      0.80       275\n",
      "\n"
     ]
    }
   ],
   "source": [
    "# Classification report of QSVC\n",
    "expected_y_qsvc  = y_test\n",
    "predicted_y_qsvc = qsvc.predict(X_test_qsvc) \n",
    "\n",
    "# Print classification report and confusion matrix\n",
    "print(\"Classification report: \\n\", metrics.classification_report(expected_y_qsvc, predicted_y_qsvc))"
   ]
  },
  {
   "attachments": {},
   "cell_type": "markdown",
   "metadata": {},
   "source": [
    "Well, there is some improvement over the previous example. At least some samples where better classified thanks to a simple encoding if you look at the classificatino report (class 1.0)."
   ]
  },
  {
   "attachments": {},
   "cell_type": "markdown",
   "metadata": {},
   "source": [
    "## Neural Networks\n",
    "\n",
    "Neural networks are known to be very versatile models capable of approximation almost any relationship (between features and labels). We will fit a simple approach composed by three layers of 60, 40 and 20 ReLU units and a final sigmoid action on a single unit. Adam will be the optimization approach and binary crossentropy the cost function associated to our binary classification task.\n",
    "\n",
    "Gradient based training algorithms like Adam will require gradient calculations but that is when frameworks such as TensorFlow and Keras will become handy (make sure you have them installed)."
   ]
  },
  {
   "cell_type": "code",
   "execution_count": 15,
   "metadata": {},
   "outputs": [],
   "source": [
    "# General definitions\n",
    "import warnings\n",
    "warnings.filterwarnings('ignore')"
   ]
  },
  {
   "cell_type": "code",
   "execution_count": null,
   "metadata": {},
   "outputs": [],
   "source": [
    "# Keras\n",
    "from keras.models import Sequential\n",
    "from keras.layers import Dense\n",
    "\n",
    "# Fit the model with specific layers and activations\n",
    "model = Sequential()\n",
    "model.add(Dense(60, input_dim=X_train_nn.shape[1], activation='relu', kernel_initializer='normal'))\n",
    "model.add(Dense(40,activation='relu'))\n",
    "model.add(Dense(20,activation='relu'))\n",
    "model.add(Dense(1,activation='sigmoid'))\n",
    "\n",
    "# Model compiled\n",
    "model.compile(loss='binary_crossentropy', optimizer='adam', metrics=['accuracy'])\n",
    "history = model.fit(X_train_nn, y_train, batch_size=batch, \n",
    "                 epochs=50, validation_data = (X_test_nn, y_test),verbose=1)"
   ]
  },
  {
   "cell_type": "code",
   "execution_count": 22,
   "metadata": {},
   "outputs": [
    {
     "name": "stdout",
     "output_type": "stream",
     "text": [
      "9/9 [==============================] - 0s 6ms/step - loss: 0.4859 - accuracy: 0.8036\n",
      "NN test aacuracy score: 80.36%\n"
     ]
    }
   ],
   "source": [
    "# Testing\n",
    "nn_score = model.evaluate(X_test_nn, y_test)\n",
    "print(\"NN test accuracy score: %.2f%%\" % (nn_score[1]*100))"
   ]
  },
  {
   "cell_type": "code",
   "execution_count": 23,
   "metadata": {},
   "outputs": [
    {
     "name": "stdout",
     "output_type": "stream",
     "text": [
      "9/9 [==============================] - 0s 3ms/step\n",
      "Classification report: \n",
      "               precision    recall  f1-score   support\n",
      "\n",
      "         0.0       0.86      0.87      0.86       194\n",
      "         1.0       0.67      0.65      0.66        81\n",
      "\n",
      "    accuracy                           0.80       275\n",
      "   macro avg       0.76      0.76      0.76       275\n",
      "weighted avg       0.80      0.80      0.80       275\n",
      "\n"
     ]
    }
   ],
   "source": [
    "# Classification report of NN\n",
    "expected_y_nn  = y_test\n",
    "predicted_y_nn = (model.predict(X_test_nn) > 0.5).astype(\"int32\")\n",
    "\n",
    "# Print classification report and confusion matrix\n",
    "print(\"Classification report: \\n\", metrics.classification_report(expected_y_nn, predicted_y_nn))"
   ]
  },
  {
   "attachments": {},
   "cell_type": "markdown",
   "metadata": {},
   "source": [
    "Not bad. Similar to our original SVC approach. Let's try now with Qiskit enabled Quantum Neural Networks. Two main pieces will compose our quantum NN:\n",
    "\n",
    "* Feature map: where the classical data gets encoded as quantum states\n",
    "* Ansatz or PQC: A parameterized set of gates that act as layers in our network\n",
    "\n",
    "Given the measurements we can produce in Qiskit the simpler case is the binary classification, even though by stacking several binary classifiers a multi-label classifier can also be composed."
   ]
  },
  {
   "cell_type": "code",
   "execution_count": 17,
   "metadata": {},
   "outputs": [
    {
     "data": {
      "image/png": "[encoded data removed]",
      "text/plain": [
       "<Figure size 621.739x200.667 with 1 Axes>"
      ]
     },
     "execution_count": 17,
     "metadata": {},
     "output_type": "execute_result"
    }
   ],
   "source": [
    "from qiskit import QuantumCircuit\n",
    "from qiskit.circuit.library import ZZFeatureMap, RealAmplitudes\n",
    "\n",
    "# Declare the feature map\n",
    "feature_map = ZZFeatureMap(num_inputs)\n",
    "\n",
    "# Declare the ansatz\n",
    "ansatz = RealAmplitudes(num_inputs, reps=2) \n",
    "\n",
    "# Construct the quantum circuit\n",
    "qc = QuantumCircuit(num_inputs)\n",
    "qc.append(feature_map, range(num_inputs))\n",
    "qc.append(ansatz, range(num_inputs))\n",
    "qc.decompose().draw('mpl')"
   ]
  },
  {
   "cell_type": "code",
   "execution_count": 18,
   "metadata": {},
   "outputs": [],
   "source": [
    "from qiskit.providers.aer import Aer\n",
    "from qiskit_machine_learning.algorithms.classifiers import NeuralNetworkClassifier\n",
    "from qiskit_machine_learning.neural_networks import CircuitQNN\n",
    "from qiskit.algorithms.optimizers import L_BFGS_B\n",
    "\n",
    "# Maps bitstrings to 0 or 1\n",
    "def parity(x):\n",
    "    return \"{:b}\".format(x).count(\"1\") % 2\n",
    "\n",
    "# Defining quantum instance\n",
    "quantum_instance = QuantumInstance(Aer.get_backend(\"aer_simulator\"), shots=shots)\n",
    "\n",
    "# Declare the QNN circuit\n",
    "circuit_qnn = CircuitQNN(\n",
    "    circuit=qc,\n",
    "    input_params=feature_map.parameters,\n",
    "    weight_params=ansatz.parameters,\n",
    "    interpret=parity,\n",
    "    output_shape=2,\n",
    "    quantum_instance=quantum_instance,\n",
    ")\n",
    "\n",
    "# Declare the classifier\n",
    "circuit_classifier = NeuralNetworkClassifier(\n",
    "            neural_network=circuit_qnn, optimizer= L_BFGS_B(maxiter=maxiter), loss='absolute_error'\n",
    ")"
   ]
  },
  {
   "cell_type": "code",
   "execution_count": 19,
   "metadata": {},
   "outputs": [
    {
     "data": {
      "text/plain": [
       "<qiskit_machine_learning.algorithms.classifiers.neural_network_classifier.NeuralNetworkClassifier at 0x7f9b414a6760>"
      ]
     },
     "execution_count": 19,
     "metadata": {},
     "output_type": "execute_result"
    }
   ],
   "source": [
    "circuit_classifier.fit(X_train_nn,y_train_nn)"
   ]
  },
  {
   "cell_type": "code",
   "execution_count": 20,
   "metadata": {},
   "outputs": [
    {
     "name": "stdout",
     "output_type": "stream",
     "text": [
      "Classification report: \n",
      "               precision    recall  f1-score   support\n",
      "\n",
      "         0.0       0.90      0.67      0.77       194\n",
      "         1.0       0.51      0.83      0.63        81\n",
      "\n",
      "    accuracy                           0.72       275\n",
      "   macro avg       0.71      0.75      0.70       275\n",
      "weighted avg       0.79      0.72      0.73       275\n",
      "\n"
     ]
    }
   ],
   "source": [
    "y_pred = circuit_classifier.predict(X_test_nn)\n",
    "\n",
    "# print classification report and confusion matrix for the classifier\n",
    "print(\"Classification report: \\n\", metrics.classification_report(y_test_nn, y_pred))"
   ]
  },
  {
   "attachments": {},
   "cell_type": "markdown",
   "metadata": {},
   "source": [
    "Well we got to improve a little bit but lets try with some gradient training and a more generic approach. In this case, Pennylane will help us minimize the amount of implementation to be done for our Variational Quantum Classifier."
   ]
  },
  {
   "attachments": {},
   "cell_type": "markdown",
   "metadata": {},
   "source": [
    "## Variational Quantum Classifier\n",
    "\n",
    "We will check for a more generic approach thanks to Pennylane. As we already discussed previously, Pennylane allows for automatic differentiation similar to how tensorflow or pytorch work at classical level."
   ]
  },
  {
   "cell_type": "code",
   "execution_count": 21,
   "metadata": {},
   "outputs": [],
   "source": [
    "# PennyLane\n",
    "import pennylane as qml\n",
    "from pennylane import numpy as np # this is conflicting with regular numpy on first line\n",
    "from pennylane.templates.embeddings import AngleEmbedding\n",
    "from pennylane.optimize import AdamOptimizer\n",
    "\n",
    "# Device\n",
    "dev = qml.device('default.qubit', wires = num_qubits)\n",
    "\n",
    "# Our generic candidate circuit\n",
    "def circuit(parameters, X_train_vqc):\n",
    "    for i in range(num_qubits):\n",
    "        qml.Hadamard(wires = i)\n",
    "    \n",
    "    # Angle embedding for classical embedding\n",
    "    AngleEmbedding(features = X_train_vqc, wires = range(num_qubits), rotation = 'Y')\n",
    "    \n",
    "    # This will be our PQC of choice\n",
    "    qml.StronglyEntanglingLayers(weights = parameters, wires = range(num_qubits))\n",
    "    \n",
    "    # And measuring on 0 qubit we will get if it corresponds to one or other label\n",
    "    return qml.expval(qml.PauliZ(0))"
   ]
  },
  {
   "attachments": {},
   "cell_type": "markdown",
   "metadata": {},
   "source": [
    "Now that the device and our candidate circuit are set we just need to amrry the two."
   ]
  },
  {
   "cell_type": "code",
   "execution_count": 22,
   "metadata": {},
   "outputs": [],
   "source": [
    "# QNode: Device + Circuit\n",
    "vqc = qml.QNode(circuit, dev, diff_method=\"backprop\")"
   ]
  },
  {
   "cell_type": "code",
   "execution_count": 23,
   "metadata": {},
   "outputs": [],
   "source": [
    "# Parameters definition\n",
    "num_layers = 5\n",
    "weights_init = 0.01 * np.random.randn(num_layers, num_qubits, 3, requires_grad=True)\n",
    "bias_init = np.array(0.0, requires_grad=True)"
   ]
  },
  {
   "attachments": {},
   "cell_type": "markdown",
   "metadata": {},
   "source": [
    "Our circuit can be used as it sits..."
   ]
  },
  {
   "cell_type": "code",
   "execution_count": 24,
   "metadata": {},
   "outputs": [
    {
     "data": {
      "text/plain": [
       "tensor(0.30713254, requires_grad=True)"
      ]
     },
     "execution_count": 24,
     "metadata": {},
     "output_type": "execute_result"
    }
   ],
   "source": [
    "vqc(weights_init, X_train_vqc[0])"
   ]
  },
  {
   "attachments": {},
   "cell_type": "markdown",
   "metadata": {},
   "source": [
    "But better if we train it like before."
   ]
  },
  {
   "cell_type": "code",
   "execution_count": 25,
   "metadata": {},
   "outputs": [],
   "source": [
    "# VQC functions\n",
    "def variational_classifier(weights, bias, x):\n",
    "    return vqc(weights, x) + bias\n",
    "\n",
    "def square_loss(labels, predictions):\n",
    "    loss = 0\n",
    "    for l, p in zip(labels, predictions):\n",
    "        loss = loss + (l - p) ** 2\n",
    "\n",
    "    loss = loss / len(labels)\n",
    "    return loss\n",
    "\n",
    "def accuracy(labels, predictions):\n",
    "\n",
    "    loss = 0\n",
    "    for l, p in zip(labels, predictions):\n",
    "        if abs(l - p) < 1e-5:\n",
    "            loss = loss + 1\n",
    "    loss = loss / len(labels)\n",
    "\n",
    "    return loss\n",
    "\n",
    "def cost(weights, bias, X, Y):\n",
    "    predictions = [variational_classifier(weights, bias, x) for x in X]\n",
    "    return square_loss(Y, predictions)"
   ]
  },
  {
   "cell_type": "code",
   "execution_count": 26,
   "metadata": {},
   "outputs": [
    {
     "name": "stdout",
     "output_type": "stream",
     "text": [
      "New best\n",
      "Iter:     1 | Cost: 0.6717129 | Accuracy: 0.7668232 \n",
      "New best\n",
      "Iter:     2 | Cost: 0.3108647 | Accuracy: 0.9358372 \n",
      "Iter:     3 | Cost: 0.2503868 | Accuracy: 0.9358372 \n",
      "New best\n",
      "Iter:     4 | Cost: 0.2653068 | Accuracy: 0.9374022 \n",
      "New best\n",
      "Iter:     5 | Cost: 0.2626349 | Accuracy: 0.9467919 \n",
      "Iter:     6 | Cost: 0.2454696 | Accuracy: 0.9420970 \n",
      "Iter:     7 | Cost: 0.2521666 | Accuracy: 0.9420970 \n",
      "Iter:     8 | Cost: 0.2653436 | Accuracy: 0.9405321 \n",
      "Iter:     9 | Cost: 0.2750339 | Accuracy: 0.9389671 \n",
      "Iter:    10 | Cost: 0.2800192 | Accuracy: 0.9342723 \n",
      "Iter:    11 | Cost: 0.2793966 | Accuracy: 0.9327074 \n",
      "Iter:    12 | Cost: 0.2755328 | Accuracy: 0.9374022 \n",
      "Iter:    13 | Cost: 0.2666034 | Accuracy: 0.9311424 \n",
      "Iter:    14 | Cost: 0.2530132 | Accuracy: 0.9311424 \n",
      "Iter:    15 | Cost: 0.2380862 | Accuracy: 0.9342723 \n",
      "New best\n",
      "Iter:    16 | Cost: 0.2225985 | Accuracy: 0.9561815 \n",
      "New best\n",
      "Iter:    17 | Cost: 0.2077627 | Accuracy: 0.9624413 \n",
      "Iter:    18 | Cost: 0.1936778 | Accuracy: 0.9593114 \n",
      "Iter:    19 | Cost: 0.1832805 | Accuracy: 0.9593114 \n",
      "Iter:    20 | Cost: 0.1764219 | Accuracy: 0.9577465 \n",
      "Iter:    21 | Cost: 0.1761949 | Accuracy: 0.9577465 \n",
      "Iter:    22 | Cost: 0.1812042 | Accuracy: 0.9608764 \n",
      "New best\n",
      "Iter:    23 | Cost: 0.1852694 | Accuracy: 0.9640063 \n",
      "Iter:    24 | Cost: 0.1877926 | Accuracy: 0.9640063 \n",
      "New best\n",
      "Iter:    25 | Cost: 0.1812640 | Accuracy: 0.9655712 \n",
      "New best\n",
      "Iter:    26 | Cost: 0.1709543 | Accuracy: 0.9671362 \n",
      "Iter:    27 | Cost: 0.1627526 | Accuracy: 0.9640063 \n",
      "Iter:    28 | Cost: 0.1585545 | Accuracy: 0.9624413 \n",
      "Iter:    29 | Cost: 0.1553512 | Accuracy: 0.9608764 \n",
      "Iter:    30 | Cost: 0.1540156 | Accuracy: 0.9593114 \n",
      "Iter:    31 | Cost: 0.1549399 | Accuracy: 0.9593114 \n",
      "Iter:    32 | Cost: 0.1565696 | Accuracy: 0.9577465 \n",
      "Iter:    33 | Cost: 0.1577307 | Accuracy: 0.9561815 \n",
      "Iter:    34 | Cost: 0.1613771 | Accuracy: 0.9546166 \n",
      "Iter:    35 | Cost: 0.1632604 | Accuracy: 0.9514867 \n",
      "Iter:    36 | Cost: 0.1647022 | Accuracy: 0.9514867 \n",
      "Iter:    37 | Cost: 0.1662250 | Accuracy: 0.9514867 \n",
      "Iter:    38 | Cost: 0.1664498 | Accuracy: 0.9514867 \n",
      "Iter:    39 | Cost: 0.1665459 | Accuracy: 0.9514867 \n",
      "Iter:    40 | Cost: 0.1648309 | Accuracy: 0.9499218 \n",
      "Iter:    41 | Cost: 0.1629427 | Accuracy: 0.9530516 \n",
      "Iter:    42 | Cost: 0.1616387 | Accuracy: 0.9514867 \n",
      "Iter:    43 | Cost: 0.1602763 | Accuracy: 0.9514867 \n",
      "Iter:    44 | Cost: 0.1594862 | Accuracy: 0.9530516 \n",
      "Iter:    45 | Cost: 0.1615359 | Accuracy: 0.9561815 \n",
      "Iter:    46 | Cost: 0.1642898 | Accuracy: 0.9608764 \n",
      "Iter:    47 | Cost: 0.1599211 | Accuracy: 0.9561815 \n",
      "Iter:    48 | Cost: 0.1563213 | Accuracy: 0.9546166 \n",
      "Iter:    49 | Cost: 0.1584381 | Accuracy: 0.9593114 \n",
      "Iter:    50 | Cost: 0.1623907 | Accuracy: 0.9561815 \n"
     ]
    }
   ],
   "source": [
    "# Optimizer declaration and batch parameter\n",
    "opt = AdamOptimizer(stepsize=0.1, beta1=0.9, beta2=0.99, eps=1e-08)\n",
    "batch_size = batch\n",
    "\n",
    "weights = weights_init\n",
    "bias = bias_init\n",
    "\n",
    "wbest = 0\n",
    "bbest = 0\n",
    "abest = 0\n",
    "\n",
    "# X and y definition with shift label from [[0, 1] to [-1, 1]\n",
    "Y = np.array(y_train_vqc.values[:,0] * 2 - np.ones(len(y_train_vqc.values[:,0])), requires_grad = False)\n",
    "X = np.array(X_train_vqc, requires_grad=False)\n",
    "\n",
    "for it in range(50):\n",
    "\n",
    "    # Weights update by each optimizer step\n",
    "\n",
    "    batch_index = np.random.randint(0, len(X), (batch_size,))\n",
    "    X_batch = X[batch_index]\n",
    "    Y_batch = Y[batch_index]\n",
    "    weights, bias, _, _ = opt.step(cost, weights, bias, X_batch, Y_batch)\n",
    "\n",
    "    # Accuracy computation\n",
    "    predictions = [np.sign(variational_classifier(weights, bias, x)) for x in X]\n",
    "\n",
    "    acc = accuracy(Y, predictions)\n",
    "    \n",
    "    if acc > abest:\n",
    "        wbest = weights\n",
    "        bbest = bias\n",
    "        abest = acc\n",
    "        print('New best')\n",
    "\n",
    "    print(\n",
    "        \"Iter: {:5d} | Cost: {:0.7f} | Accuracy: {:0.7f} \".format(\n",
    "            it + 1, cost(weights, bias, X, Y), acc\n",
    "        )\n",
    "    )"
   ]
  },
  {
   "cell_type": "code",
   "execution_count": 27,
   "metadata": {},
   "outputs": [
    {
     "name": "stdout",
     "output_type": "stream",
     "text": [
      "VQC test accuracy score: 73.0%\n"
     ]
    }
   ],
   "source": [
    "# X_test and y_test transformation to be analyzed\n",
    "Yte = np.array(y_test_vqc.values[:,0] * 2 - np.ones(len(y_test_vqc.values[:,0])), requires_grad = False)\n",
    "Xte = np.array(normalize(X_test_vqc), requires_grad=False)\n",
    "\n",
    "# Testing\n",
    "predictions = [np.sign(variational_classifier(wbest, bbest, x)) for x in Xte]\n",
    "accuracy_vqc = accuracy(Yte, predictions)\n",
    "\n",
    "print(f'VQC test accuracy score: {np.round(accuracy_vqc, 2) * 100}%')"
   ]
  },
  {
   "cell_type": "code",
   "execution_count": 28,
   "metadata": {},
   "outputs": [
    {
     "name": "stdout",
     "output_type": "stream",
     "text": [
      "Classification report: \n",
      "               precision    recall  f1-score   support\n",
      "\n",
      "        -1.0       0.81      0.81      0.81       194\n",
      "         1.0       0.54      0.53      0.54        81\n",
      "\n",
      "    accuracy                           0.73       275\n",
      "   macro avg       0.68      0.67      0.67       275\n",
      "weighted avg       0.73      0.73      0.73       275\n",
      "\n"
     ]
    }
   ],
   "source": [
    "# Classification report of VQC\n",
    "expected_y_vqc  = Yte\n",
    "predicted_y_vqc = predictions \n",
    "\n",
    "# Print classification report and confusion matrix\n",
    "print(\"Classification report: \\n\", metrics.classification_report(expected_y_vqc, predicted_y_vqc))"
   ]
  },
  {
   "cell_type": "code",
   "execution_count": null,
   "metadata": {},
   "outputs": [],
   "source": []
  }
 ],
 "metadata": {
  "kernelspec": {
   "display_name": "Python 3 (ipykernel)",
   "language": "python",
   "name": "python3"
  },
  "language_info": {
   "codemirror_mode": {
    "name": "ipython",
    "version": 3
   },
   "file_extension": ".py",
   "mimetype": "text/x-python",
   "name": "python",
   "nbconvert_exporter": "python",
   "pygments_lexer": "ipython3",
   "version": "3.9.18"
  },
  "vscode": {
   "interpreter": {
    "hash": "103bead1b3505221cf3c93684cd5f873d89729dddf7b8625d3d8bb582bc8ea06"
   }
  }
 },
 "nbformat": 4,
 "nbformat_minor": 4
}
