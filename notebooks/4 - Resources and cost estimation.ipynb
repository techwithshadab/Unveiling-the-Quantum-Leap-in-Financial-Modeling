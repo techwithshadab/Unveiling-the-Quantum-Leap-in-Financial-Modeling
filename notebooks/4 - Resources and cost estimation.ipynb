{
 "cells": [
  {
   "attachments": {},
   "cell_type": "markdown",
   "metadata": {},
   "source": [
    "# Resources and cost\n",
    "\n",
    "One thing that needs to be present nowadays is that the execution on quantum hardware is still quite expensive given the status of the technology, maintenance required and well, there are not so many quantum companies out there."
   ]
  },
  {
   "cell_type": "code",
   "execution_count": null,
   "metadata": {},
   "outputs": [],
   "source": [
    "!pip install amazon-braket-sdk amazon-braket-pennylane-plugin"
   ]
  },
  {
   "attachments": {},
   "cell_type": "markdown",
   "metadata": {},
   "source": [
    "Pennylane already counts with a resource estimation mechanisms so it is easy to evaluate how much it will require to train a given circuit."
   ]
  },
  {
   "cell_type": "code",
   "execution_count": 1,
   "metadata": {},
   "outputs": [],
   "source": [
    "import pennylane as qml\n",
    "from pennylane import numpy as np\n",
    "\n",
    "wires = 2  # Number of qubits\n",
    "\n",
    "dev = qml.device(\"braket.local.qubit\", wires=wires)\n",
    "\n",
    "def circuit(params):\n",
    "    qml.Hadamard(wires=0)\n",
    "    qml.RY(params[0], wires=0)\n",
    "    qml.CNOT(wires=[0, 1])\n",
    "    return qml.expval(qml.PauliZ(1))\n",
    "\n",
    "qnode_local = qml.QNode(circuit, dev)"
   ]
  },
  {
   "cell_type": "code",
   "execution_count": 2,
   "metadata": {},
   "outputs": [
    {
     "name": "stdout",
     "output_type": "stream",
     "text": [
      "Expectation value of circuit: -0.09983341664682799\n"
     ]
    }
   ],
   "source": [
    "params = np.array([0.1], requires_grad=True)\n",
    "\n",
    "with qml.Tracker(dev) as tracker:\n",
    "    print(\"Expectation value of circuit:\", qnode_local(params))"
   ]
  },
  {
   "cell_type": "code",
   "execution_count": 3,
   "metadata": {},
   "outputs": [
    {
     "name": "stdout",
     "output_type": "stream",
     "text": [
      "{'executions': [1], 'shots': [None], 'braket_task_id': ['a83d03fd-df2f-4d89-9d6d-73886cafdf70'], 'batches': [1], 'batch_len': [1]}\n"
     ]
    }
   ],
   "source": [
    "print(tracker.history)"
   ]
  },
  {
   "cell_type": "code",
   "execution_count": 4,
   "metadata": {},
   "outputs": [
    {
     "name": "stdout",
     "output_type": "stream",
     "text": [
      "Gradient of circuit: [-0.99500417]\n",
      "{'executions': [1, 1, 1], 'shots': [None, None, None], 'braket_task_id': ['fb4d0942-1db2-4050-b304-06b7ffb9d9ef', '12a3c3cd-3996-4564-a2d9-c004b770099a', '278272f2-4800-429d-b34d-56af1ac5c645'], 'batches': [1, 1], 'batch_len': [1, 2]}\n"
     ]
    }
   ],
   "source": [
    "with qml.Tracker(dev) as tracker:\n",
    "    print(\"Gradient of circuit:\", qml.grad(qnode_local)(params))\n",
    "\n",
    "print(tracker.history)"
   ]
  },
  {
   "cell_type": "code",
   "execution_count": 5,
   "metadata": {},
   "outputs": [
    {
     "name": "stdout",
     "output_type": "stream",
     "text": [
      "{'executions': 3, 'shots': 30, 'batches': 2, 'batch_len': 3}\n"
     ]
    }
   ],
   "source": [
    "with qml.Tracker(dev) as tracker:\n",
    "    qml.grad(qnode_local)(params, shots=10)\n",
    "print(tracker.totals)"
   ]
  },
  {
   "attachments": {},
   "cell_type": "markdown",
   "metadata": {},
   "source": [
    "Once we have a clear understanding in what resources are required and the potential cost it could cause when moving to a device in AWS, we can perform additional validations."
   ]
  },
  {
   "cell_type": "code",
   "execution_count": 1,
   "metadata": {},
   "outputs": [],
   "source": [
    "device_arn = \"arn:aws:braket:::device/quantum-simulator/amazon/sv1\"\n",
    "\n",
    "dev_remote = qml.device(\n",
    "    \"braket.aws.qubit\",\n",
    "    device_arn=device_arn,\n",
    "    wires=wires\n",
    ")\n",
    "\n",
    "qnode_remote = qml.QNode(circuit, dev_remote)"
   ]
  },
  {
   "attachments": {},
   "cell_type": "markdown",
   "metadata": {},
   "source": [
    "One must need to consider any operation against the device will introduce **costs** so be sure to try with minimum number of shots before going all the way training a PQC."
   ]
  },
  {
   "attachments": {},
   "cell_type": "markdown",
   "metadata": {},
   "source": [
    "## Azure"
   ]
  },
  {
   "attachments": {},
   "cell_type": "markdown",
   "metadata": {},
   "source": [
    "We will use Azure's Qiskit plugin to modify one of our previous worloads and get its cost estimation for available devices."
   ]
  },
  {
   "cell_type": "code",
   "execution_count": null,
   "metadata": {},
   "outputs": [],
   "source": [
    "!pip install azure-quantum[qiskit]"
   ]
  },
  {
   "cell_type": "code",
   "execution_count": 2,
   "metadata": {},
   "outputs": [],
   "source": [
    "import os\n",
    "from qiskit import QuantumCircuit\n",
    "from qiskit.visualization import plot_histogram\n",
    "from qiskit.tools.monitor import job_monitor\n",
    "from azure.quantum.qiskit import AzureQuantumProvider\n",
    "\n",
    "from azure.quantum.qiskit import AzureQuantumProvider\n",
    "provider = AzureQuantumProvider (\n",
    "    resource_id = \"/subscriptions/<suscription_id>/resourceGroups/AzureQuantum/providers/Microsoft.Quantum/Workspaces/<qworkspace>\",\n",
    "    location = \"eastus\"\n",
    ")"
   ]
  },
  {
   "cell_type": "code",
   "execution_count": 3,
   "metadata": {},
   "outputs": [
    {
     "name": "stdout",
     "output_type": "stream",
     "text": [
      "ionq.qpu\n",
      "ionq.qpu.aria-1\n",
      "ionq.simulator\n",
      "quantinuum.hqs-lt-s1\n",
      "quantinuum.hqs-lt-s1-apival\n",
      "quantinuum.hqs-lt-s2\n",
      "quantinuum.hqs-lt-s2-apival\n",
      "quantinuum.hqs-lt-s1-sim\n",
      "quantinuum.hqs-lt-s2-sim\n",
      "quantinuum.qpu.h1-1\n",
      "quantinuum.sim.h1-1sc\n",
      "quantinuum.qpu.h1-2\n",
      "quantinuum.sim.h1-2sc\n",
      "quantinuum.sim.h1-1e\n",
      "quantinuum.sim.h1-2e\n",
      "rigetti.sim.qvm\n",
      "rigetti.qpu.aspen-11\n",
      "rigetti.qpu.aspen-m-2\n",
      "rigetti.qpu.aspen-m-3\n",
      "microsoft.estimator\n"
     ]
    }
   ],
   "source": [
    "backends = [backend.name() for backend in provider.backends()]\n",
    "\n",
    "for bname in backends:\n",
    "    print(bname)"
   ]
  },
  {
   "attachments": {},
   "cell_type": "markdown",
   "metadata": {},
   "source": [
    "We will take as an example the European Call Pricing circuit we used at the earlier."
   ]
  },
  {
   "cell_type": "code",
   "execution_count": 8,
   "metadata": {},
   "outputs": [],
   "source": [
    "from qiskit_finance.circuit.library import LogNormalDistribution\n",
    "from qiskit_finance.applications.estimation import EuropeanCallPricing\n",
    "\n",
    "nqubits = 5\n",
    "mu = 1.8857218736663879\n",
    "stddev = 1.3485214461619102\n",
    "high = 100\n",
    "low = 2.676853593081561\n",
    "\n",
    "strike = 7\n",
    "\n",
    "# construct A operator for QAE composing the uncertainty model and the objective\n",
    "dist_circ = LogNormalDistribution(nqubits, mu=mu, sigma=stddev**2, bounds=(low, high))\n",
    "\n",
    "european_call_pricing = EuropeanCallPricing(\n",
    "    num_state_qubits=nqubits,\n",
    "    strike_price=strike,\n",
    "    rescaling_factor=0.05,\n",
    "    bounds=(low, high),\n",
    "    uncertainty_model=dist_circ,\n",
    ")\n",
    "\n",
    "problem = european_call_pricing.to_estimation_problem()"
   ]
  },
  {
   "cell_type": "code",
   "execution_count": 11,
   "metadata": {},
   "outputs": [
    {
     "data": {
      "image/png": "[encoded data removed]",
      "text/plain": [
       "<Figure size 305.323x953.167 with 1 Axes>"
      ]
     },
     "execution_count": 11,
     "metadata": {},
     "output_type": "execute_result"
    }
   ],
   "source": [
    "problem.state_preparation.draw('mpl')"
   ]
  },
  {
   "attachments": {},
   "cell_type": "markdown",
   "metadata": {},
   "source": [
    "We will select IonQ's device and see how much it could cost us a single run on it. We need to decompose the circuit to basic gates that can be interpreted by IonQ."
   ]
  },
  {
   "cell_type": "code",
   "execution_count": 27,
   "metadata": {},
   "outputs": [
    {
     "name": "stdout",
     "output_type": "stream",
     "text": [
      " Estimated cost for a single shot is of 5.449HQC\n"
     ]
    }
   ],
   "source": [
    "from qiskit import transpile\n",
    "\n",
    "result = transpile(problem.state_preparation, basis_gates=['id', 'ry', 'rx', 'rz', 'cx', 'h'], optimization_level=1, seed_transpiler=1)\n",
    "\n",
    "backend = provider.get_backend(\"quantinuum.qpu.h1-1\")\n",
    "costs = backend.estimate_cost(result, shots=1)\n",
    "\n",
    "print(f\" Estimated cost for a single shot is of {costs.estimated_total}{costs.currency_code}\")"
   ]
  }
 ],
 "metadata": {
  "kernelspec": {
   "display_name": "Python 3 (ipykernel)",
   "language": "python",
   "name": "python3"
  },
  "language_info": {
   "codemirror_mode": {
    "name": "ipython",
    "version": 3
   },
   "file_extension": ".py",
   "mimetype": "text/x-python",
   "name": "python",
   "nbconvert_exporter": "python",
   "pygments_lexer": "ipython3",
   "version": "3.9.18"
  },
  "vscode": {
   "interpreter": {
    "hash": "103bead1b3505221cf3c93684cd5f873d89729dddf7b8625d3d8bb582bc8ea06"
   }
  }
 },
 "nbformat": 4,
 "nbformat_minor": 4
}
